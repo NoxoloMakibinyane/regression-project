{
 "cells": [
  {
   "cell_type": "markdown",
   "id": "785a9614-479a-4d12-b148-c573878a110a",
   "metadata": {},
   "source": [
    "## Introduction"
   ]
  },
  {
   "cell_type": "markdown",
   "id": "71410d93-6e28-4589-a984-b84211d3411a",
   "metadata": {
    "jp-MarkdownHeadingCollapsed": true
   },
   "source": [
    "Significant Contribution of Agri-food Sector to Global Emissions: The dataset emphasizes the substantial role of the agri-food sector in contributing to global CO2 emissions, highlighting the need for sustainable practices within this industry.\n",
    "Interplay of Emissions, Climate Change, and Geography: The analysis within the notebook delves into the intricate relationship between these factors, providing valuable insights for understanding regional variations and global trends.\n",
    "Predictive Power of Machine Learning: The notebook demonstrates the practical application of machine learning techniques, specifically in predicting temperature variations. This showcases the potential of data-driven approaches to inform climate change mitigation strategies.\n",
    "\n",
    "\n",
    "### Potential Areas of Further Exploration:\n",
    "\n",
    "**Identifying High-Emission Regions and Practices:** Pinpoint specific geographic regions or agricultural practices that contribute disproportionately to CO2 emissions. Analyze the impact of different farming techniques (e.g., conventional vs. organic) on emissions.\n",
    "\n",
    "**Quantifying the Impact of Climate Change on Agriculture:** Assess how climate change-induced factors like extreme weather events, temperature fluctuations, and altered precipitation patterns affect agricultural productivity and emissions.Model future scenarios to predict the potential impacts of climate change on different agricultural regions.\n",
    "\n",
    "**Developing Sustainable Agricultural Strategies:** Explore the potential of innovative technologies (e.g., precision agriculture, carbon sequestration techniques) to reduce emissions and enhance agricultural sustainability. Analyze the economic and environmental implications of various sustainable practices to inform policy decisions.\n",
    "\n",
    "**Policy Recommendations and International Cooperation:** Propose policy measures to incentivize sustainable agriculture and reduce emissions.Advocate for international cooperation to address global challenges related to agriculture and climate change.\n",
    "\n",
    "### Leveraging Machine Learning for Deeper Insights:\n",
    "\n",
    "**Time Series Analysis:** Analyze historical emission trends to identify patterns and seasonal variations.Forecast future emissions based on historical data and relevant factors.\n",
    "\n",
    "**Clustering Analysis:** Group countries or regions with similar emission profiles to identify common characteristics and potential solutions.\n",
    "\n",
    "**Anomaly Detection:** Identify outliers or unusual emission patterns that may indicate underlying issues or potential risks.\n",
    "\n",
    "By delving deeper into this dataset and employing advanced data analysis techniques, we can gain valuable insights that will inform evidence-based decision-making and contribute to the development of effective strategies to mitigate climate change.\n"
   ]
  },
  {
   "cell_type": "markdown",
   "id": "d4fab6ea-c520-4887-8924-c095be36177b",
   "metadata": {},
   "source": [
    "## Data Collection and Description"
   ]
  },
  {
   "cell_type": "markdown",
   "id": "2f911cfb-5d9d-4075-9583-bfa1e115fda6",
   "metadata": {},
   "source": [
    "***Dataset features***\n",
    "\n",
    "- **Area:** A country name being analyzed (Text).\n",
    " \n",
    "- **Year:** The number of hours a student spent studying per week (Int).\n",
    "\n",
    "- **Savanna Fires:** Emissions from fires in savanna ecosystems. \n",
    "\n",
    "- **Forest Fires:** Emissions from fires in forested areas. Crop Residues: Emissions from burning or decomposing leftover plant material after crop harvesting. \n",
    "\n",
    "- **Crop Residues:** Availability of student's educational resources (Text).\n",
    "\n",
    "- **Rice Cultivation:** Emissions from methane released during rice cultivation.\n",
    "- **Drained organic soils (CO2):** Emissions from carbon dioxide released when draining organic soils.\n",
    "- **Pesticides Manufacturing:** Emissions from the production of pesticides.\n",
    "- **Food Transport:** Emissions from transporting food products..\n",
    "- **Forestland:** Land covered by forests.\n",
    "- **Net Forest conversion:** Change in forest area due to deforestation and afforestation.\n",
    "- **Food Household Consumption:** Emissions from food consumption at the household level.\n",
    "- **Food Retail:** Number of sessions used to enhance academic performance per month (Int).\n",
    "- **Manure Management:** Emissions from managing and treating animal manure\n",
    "- **Fires in humid tropical forests:** Measure of teacher's effectiveness and competencies (Text).\n",
    "- **On-farm Electricity Use:** Electricity consumption on farms.\n",
    "- **Food Packaging:** Emissions from the production and disposal of food packaging materials.\n",
    "- **Agrifood Systems Waste Disposal:** Emissions from waste disposal in the agrifood system\n",
    "- **Food Processing:** Emissions from processing food products.\n",
    "- **Fertilizers Manufacturing:** Emissions from the production of fertilizers.\n",
    "- **IPPU:** Emissions from industrial processes and product use.\n",
    "- **Manure applied to Soils:** Emissions from applying animal manure to agricultural soils.\n",
    "- **Manure left on Pasture:** Emissions from animal manure on pasture or grazing land.\n",
    "- **Fires in organic soils:** Emissions from fires in organic soils.\n",
    "- **Fires in humid tropical forests:** Emissions from fires in humid tropical forests.\n",
    "- **On-farm energy use:** Energy consumption on farms\n",
    "- **Rural population:** Number of people living in rural areas.\n",
    "- **Urban population:** Number of people living in urban areas.\n",
    "- **Total Population - Male:** Total number of male individuals in the population.\n",
    "- **Total Population - Female:** Total number of female individuals in the population.\n",
    "- **total_emission:** Total greenhouse gas emissions from various sources.\n",
    "- **Average Temperature °C:** The average increasing of temperature (by year) in degrees Celsius,"
   ]
  },
  {
   "cell_type": "markdown",
   "id": "890b5d1b-87c3-4281-82bf-bfeeec95d53f",
   "metadata": {},
   "source": [
    "## Data Loading\n"
   ]
  },
  {
   "cell_type": "code",
   "execution_count": null,
   "id": "4dd758b3-8fac-4a2d-a9e7-021719e624a2",
   "metadata": {},
   "outputs": [],
   "source": [
    "import pandas as pd\n",
    "import matplotlib.pyplot as plt\n",
    "import seaborn as sns\n",
    "import pycountry\n",
    "import warnings\n",
    "warnings.filterwarnings('ignore')\n",
    "from sklearn.linear_model import LinearRegression\n",
    "from sklearn.model_selection import train_test_split\n",
    "from sklearn import metrics\n",
    "from sklearn.metrics import r2_score, mean_absolute_error, mean_squared_error\n",
    "import json\n",
    "import statsmodels.api as sm\n",
    "from statsmodels.tsa.arima.model import ARIMA\n",
    "from statsmodels.graphics.tsaplots import plot_predict\n",
    "\n",
    "#Data loading\n",
    "df = pd.read_csv('co2_emissions_from_agri.csv')\n",
    "\n",
    "#Display and explore data\n",
    "df.head()"
   ]
  },
  {
   "cell_type": "markdown",
   "id": "91cf4991-773f-49fb-8d12-42d973c40979",
   "metadata": {},
   "source": [
    "## Data Cleaning"
   ]
  },
  {
   "cell_type": "code",
   "execution_count": null,
   "id": "bab0f098-3b23-4f44-b011-17822bccb240",
   "metadata": {},
   "outputs": [],
   "source": [
    "## set dataset to display all rows.\n",
    "pd.set_option('display.max_columns', None)\n",
    "df\n",
    "\n",
    "pd.set_option('display.max_columns', None)\n",
    "df"
   ]
  },
  {
   "cell_type": "code",
   "execution_count": null,
   "id": "d03d253f-15ea-41f7-bc46-922a5ee7f0a3",
   "metadata": {},
   "outputs": [],
   "source": [
    "df.info()"
   ]
  },
  {
   "cell_type": "code",
   "execution_count": null,
   "id": "bf20f04f-3124-4782-8370-5e039b12167e",
   "metadata": {},
   "outputs": [],
   "source": [
    "df.describe()"
   ]
  },
  {
   "cell_type": "code",
   "execution_count": null,
   "id": "15c80fdc-eaa0-4c9e-b232-c12ba83c03df",
   "metadata": {},
   "outputs": [],
   "source": [
    "df.shape"
   ]
  },
  {
   "cell_type": "code",
   "execution_count": null,
   "id": "fa484d1f-82aa-4ff3-b2c5-1476c2dce133",
   "metadata": {},
   "outputs": [],
   "source": [
    "df.isnull()"
   ]
  },
  {
   "cell_type": "code",
   "execution_count": null,
   "id": "54932066-0331-4df9-9a43-86a976603878",
   "metadata": {},
   "outputs": [],
   "source": [
    "df.dropna()"
   ]
  },
  {
   "cell_type": "code",
   "execution_count": null,
   "id": "b497ef97-d1cd-447d-b92f-6b8319b7ef03",
   "metadata": {},
   "outputs": [],
   "source": [
    "df.drop_duplicates()"
   ]
  },
  {
   "cell_type": "markdown",
   "id": "f39181b9-5d90-44a7-8345-14d9ff7e54dc",
   "metadata": {},
   "source": [
    "## Exploratory Data Analysis"
   ]
  },
  {
   "cell_type": "code",
   "execution_count": null,
   "id": "93cc1d3f-2158-4442-a33f-43ab1de07b43",
   "metadata": {},
   "outputs": [],
   "source": [
    "sales_state = df.groupby(['Year'], as_index=False)['Rice Cultivation'].sum().sort_values(by='Rice Cultivation', ascending=False)\n",
    "\n",
    "sns.set(rc={'figure.figsize':(20,5)})\n",
    "sns.barplot(data = sales_state, x = 'Year', y= 'Rice Cultivation')"
   ]
  },
  {
   "cell_type": "code",
   "execution_count": null,
   "id": "0bfc5aaf-7ad2-4186-adbd-c6a140587221",
   "metadata": {},
   "outputs": [],
   "source": [
    "\n",
    "sales_state = df.groupby(['Year'], as_index=False)['Manure applied to Soils'].sum().sort_values(by='Manure applied to Soils', ascending=False)\n",
    "palette = sns.color_palette(\"hsv\", len(sales_state))\n",
    "sns.set(rc={'figure.figsize':(20,5)})\n",
    "sns.barplot(data = sales_state, x = 'Year', y= 'Manure applied to Soils', hue='Year', palette=palette)"
   ]
  },
  {
   "cell_type": "markdown",
   "id": "6243c3f0-7758-4062-9974-1cac5ec50ca7",
   "metadata": {},
   "source": [
    "<p style='text-align: justify;'>Also adding an extra column to the dataset for the total population, calculated from the total male and female population for each year.</p>"
   ]
  },
  {
   "cell_type": "code",
   "execution_count": null,
   "id": "d4db2f66-9f7e-40b6-99eb-7f65687d1e86",
   "metadata": {},
   "outputs": [],
   "source": [
    "df['total_population'] = df.loc[:,'Total Population - Male'] + df.loc[:,'Total Population - Female']"
   ]
  },
  {
   "cell_type": "code",
   "execution_count": null,
   "id": "ea3d7723-62e6-4a45-ac91-20fd73205345",
   "metadata": {},
   "outputs": [],
   "source": [
    "def normalize(df):\n",
    "    n = (df-df.max())/(df.max()-df.min())\n",
    "    return n\n",
    "\n",
    "df_year = df.groupby('Year')[['total_emission','Average Temperature °C']].mean()\n",
    "df_pop = df.groupby('Year')['total_population'].sum()  #['Total_Population_Male','Total_Population_Female'].sum()\n",
    "df_year['total_population'] = df_pop\n",
    "df_year_norm = normalize(df_year)\n",
    "\n",
    "df_year_norm.plot(figsize=(20, 12))\n",
    "plt.title('Average CO2 Emission and Temperature rise yearly from 1990-2020', fontsize = 18)\n",
    "plt.xlabel('Date from 1990 to 2020', fontsize = 18)\n",
    "plt.ylabel('Normalized change of CO2 emission, temperature and population.', fontsize = 18)\n",
    "plt.show()"
   ]
  },
  {
   "cell_type": "markdown",
   "id": "7ed0546c-2b5a-45fc-8a9a-fc3590faab85",
   "metadata": {},
   "source": [
    "From the graph above it can be seen that there is a direct correlation between the CO2 emission with temperature rise and the population growth. These emissions only about 1/5th of the total CO2 emission wordwide but the direct proportionality and upward trend can be seen from this dataset as well."
   ]
  },
  {
   "cell_type": "code",
   "execution_count": null,
   "id": "674261ad-f9da-4b9b-bad2-3cc72ee1ae8e",
   "metadata": {},
   "outputs": [],
   "source": [
    "sales_state = df.groupby(['Year'], as_index=False)['Average Temperature °C'].sum().sort_values(by='Average Temperature °C', ascending=False)\n",
    "\n",
    "sns.set(rc={'figure.figsize':(20,5)})\n",
    "sns.barplot(data = sales_state, x = 'Year', y= 'Average Temperature °C')"
   ]
  },
  {
   "cell_type": "code",
   "execution_count": null,
   "id": "14b36ea2-ee31-4258-abf1-43936eac9658",
   "metadata": {},
   "outputs": [],
   "source": [
    "df_emitter = df.iloc[:,1:24].groupby('Year').sum()\n",
    "sns.set_style('whitegrid')\n",
    "df_emitter_tot = df_emitter.sum(axis = 0).sort_values()\n",
    "\n",
    "colors = ['green' if (x < 0) else 'red' for x in df_emitter_tot]\n",
    "g = df_emitter_tot.plot(kind = 'barh', \n",
    "                        figsize = (25, 20), \n",
    "                        color = colors, \n",
    "                        rot = 0) \n",
    "plt.title('CO2 emission by sector during 30 years of period.', fontsize = 18)\n",
    "plt.xlabel('Emission by industry', fontsize = 18)\n",
    "plt.ylabel('Emission of CO2', fontsize = 18)\n",
    "\n",
    "for p in g.patches:\n",
    "    width = p.get_width()\n",
    "    plt.text(p.get_width(), p.get_y()+ 1.3* p.get_height(),\n",
    "             '{:1.2f}'.format(width),\n",
    "             ha='center', va='center')\n",
    "plt.show()"
   ]
  },
  {
   "cell_type": "code",
   "execution_count": null,
   "id": "baa13d3b-425a-46ce-82a7-064a9f5a61ea",
   "metadata": {},
   "outputs": [],
   "source": [
    "plt.figure(figsize = (10, 6))\n",
    "df3 = df.groupby('Area')['Food Household Consumption'].sum().sort_values(ascending=False)\n",
    "df3"
   ]
  },
  {
   "cell_type": "code",
   "execution_count": null,
   "id": "dd8ddf96-0cd3-4ed3-a2d4-014f98fa3682",
   "metadata": {},
   "outputs": [],
   "source": [
    "sns.histplot(df['Fertilizers Manufacturing']);"
   ]
  },
  {
   "cell_type": "code",
   "execution_count": null,
   "id": "9c50c7ee-6d2a-4994-a18f-bfa69a62e867",
   "metadata": {},
   "outputs": [],
   "source": [
    "sns.distplot(df['On-farm Electricity Use'])\n",
    "plt.show()"
   ]
  },
  {
   "cell_type": "code",
   "execution_count": null,
   "id": "fc22c0a8-bf40-4f05-ae8f-5b7a49f08bef",
   "metadata": {},
   "outputs": [],
   "source": [
    "sns.scatterplot(df['On-farm Electricity Use'])"
   ]
  },
  {
   "cell_type": "code",
   "execution_count": null,
   "id": "a7c1243f-15bb-4bf1-bc50-6e6d53a3492b",
   "metadata": {},
   "outputs": [],
   "source": [
    "df_totalemi = df.groupby('Area')['total_emission'].sum()\n",
    "df_totalemi = pd.DataFrame(df_totalemi).sort_values('total_emission', ascending = False)\n",
    "\n",
    "df_top10 = df_totalemi.head(10).reset_index()\n",
    "df_top10['Proportion_(%)'] = (df_top10['total_emission'] / df_top10['total_emission'].sum() )* 100\n",
    "df_top10"
   ]
  },
  {
   "cell_type": "code",
   "execution_count": null,
   "id": "080b9557-6be7-4cd6-9905-f5764ae0aeda",
   "metadata": {},
   "outputs": [],
   "source": [
    "g = sns.catplot(x = 'total_emission',\n",
    "            y = 'Area',\n",
    "            data = df_top10,\n",
    "            kind = 'bar',\n",
    "            ci = None,\n",
    "            height = 6,\n",
    "            aspect = 2)\n",
    "g.fig.suptitle('Top 10 agricultural CO2 emitter.', y = 1.02, fontsize = 18)\n",
    "g.set(xlabel = 'Total Emission Percentage',\n",
    "      ylabel = 'Top 10 countries')\n",
    "ax = g.facet_axis(0, 0)\n",
    "for c in ax.containers:\n",
    "    labels = [f'{(v.get_height() / 1000):.1f}K' for v in c]\n",
    "    ax.bar_label(c, labels=round(df_top10['Proportion_(%)'], 2), label_type='edge')\n",
    "plt.show()"
   ]
  },
  {
   "cell_type": "code",
   "execution_count": null,
   "id": "6164fab4-9a03-4231-8d19-e86695c40ebd",
   "metadata": {},
   "outputs": [],
   "source": [
    "df_bottom10 = df_totalemi.tail(10).reset_index()\n",
    "df_bottom10['Proportion_(%)'] = (df_bottom10['total_emission'] / df_bottom10['total_emission'].sum() )* 100\n",
    "df_bottom10"
   ]
  },
  {
   "cell_type": "code",
   "execution_count": null,
   "id": "62356e14-c613-4a82-bb9b-fb45101ff737",
   "metadata": {},
   "outputs": [],
   "source": [
    "g = sns.catplot(x = 'total_emission',\n",
    "            y = 'Area',\n",
    "            data = df_bottom10,\n",
    "            kind = 'bar',\n",
    "            ci = None,\n",
    "            height = 6,\n",
    "            aspect = 2)\n",
    "g.fig.suptitle('Bottom 10 agricultural CO2 emitter.', y = 1.02, fontsize = 18)\n",
    "g.set(xlabel = 'Total Emission',\n",
    "      ylabel = 'Bottom 10 countries')\n",
    "ax = g.facet_axis(0, 0)\n",
    "for c in ax.containers:\n",
    "    labels = [f'{(v.get_height() / 1000):.1f}K' for v in c]\n",
    "    ax.bar_label(c, labels=round(df_bottom10['Proportion_(%)'], 2), label_type='edge')\n",
    "plt.show()"
   ]
  },
  {
   "cell_type": "code",
   "execution_count": null,
   "id": "0de4b5d3-ac75-4dba-a3c8-a07ce18ca601",
   "metadata": {},
   "outputs": [],
   "source": [
    "sns.set(style=\"whitegrid\")\n",
    "ax = sns.violinplot(x=df[\"Savanna fires\"])"
   ]
  },
  {
   "cell_type": "code",
   "execution_count": null,
   "id": "05555b79-aca2-4ab6-a019-a7955102e550",
   "metadata": {},
   "outputs": [],
   "source": [
    "sns.set(style=\"whitegrid\")\n",
    "ax = sns.violinplot(x=df[\"Forest fires\"])"
   ]
  },
  {
   "cell_type": "code",
   "execution_count": null,
   "id": "5e0db6de-a028-49bf-84c3-d1a9b08ede77",
   "metadata": {},
   "outputs": [],
   "source": [
    "sns.set(style=\"whitegrid\")\n",
    "ax = sns.violinplot(x=df[\"Average Temperature °C\"])"
   ]
  },
  {
   "cell_type": "markdown",
   "id": "9196fb0b-8967-4262-8e9a-08464790f593",
   "metadata": {},
   "source": [
    "The below functionality allocates the different Areas to the respective continents, in order to do so we got an online continents json file which contains country and continents map and we then take the Area from our dataset and map it."
   ]
  },
  {
   "cell_type": "code",
   "execution_count": null,
   "id": "5c429398-c8b9-4c71-afa2-0bdc960ae288",
   "metadata": {},
   "outputs": [],
   "source": [
    "# Loading continents from the json file\n",
    "continents = json.load(open('continents.json','r'))\n",
    "\n",
    "#This function assign a continent label to each country in the co2_emission \n",
    "def assign_continent(area):\n",
    "    for continent, country in continents.items():\n",
    "        if area in country:\n",
    "            return continent\n",
    "\n",
    "df['Continents'] = df.loc[:,'Area'].apply(assign_continent)"
   ]
  },
  {
   "cell_type": "markdown",
   "id": "d3473292-f019-4d7a-b1f1-99789779ff50",
   "metadata": {},
   "source": [
    "Looking at the average temperature change due to carnon emission year by year in the different regions of the world. From the next three plot we can conclude that the most effected by the CO2 emission is Europe and the second one is Asia."
   ]
  },
  {
   "cell_type": "code",
   "execution_count": null,
   "id": "6183b48e-7ca5-4715-b102-5b60c61bc22c",
   "metadata": {},
   "outputs": [],
   "source": [
    "df_1990_1999 = df.query('Year >= 1990 and Year <= 1999')\n",
    "df_2000_2009 = df.query('Year >= 2000 and Year <= 2009')\n",
    "df_2010_2020 = df.query('Year >= 2010 and Year <= 2020')\n",
    "\n",
    "def plotEmissionBoxPlot(dataframe, title):\n",
    "      sns.set_style('whitegrid')\n",
    "      g = sns.catplot(x = 'Year',\n",
    "                  y = 'Average Temperature °C',\n",
    "                  data = dataframe,\n",
    "                  kind = 'box',\n",
    "                  hue = 'Continents',\n",
    "                  height=10, \n",
    "                  aspect=2.5\n",
    "                  )\n",
    "      g.fig.suptitle('Average temperature change by year from ' + title, fontsize = 18)\n",
    "      g.set(xlabel = 'Year', ylabel = 'Average change of temperature.')\n",
    "      plt.show()\n",
    "\n",
    "plotEmissionBoxPlot(df_1990_1999, '1990 to 1999.')"
   ]
  },
  {
   "cell_type": "code",
   "execution_count": null,
   "id": "c3e862ad-0cd7-4c7e-9072-99e1a23949c6",
   "metadata": {},
   "outputs": [],
   "source": [
    "plotEmissionBoxPlot(df_2000_2009, '2000 to 2009.')"
   ]
  },
  {
   "cell_type": "code",
   "execution_count": null,
   "id": "416d4050-bf38-4fb4-acda-fb7199ed3457",
   "metadata": {},
   "outputs": [],
   "source": [
    "plotEmissionBoxPlot(df_2010_2020, '2010 to 2020.')"
   ]
  },
  {
   "cell_type": "markdown",
   "id": "a85fba5c-1112-4915-8a7d-0c034af96bb4",
   "metadata": {},
   "source": [
    "We add where the country is located by continent."
   ]
  },
  {
   "cell_type": "markdown",
   "id": "c882f945-7bf6-4408-9a0e-79c49293cb53",
   "metadata": {},
   "source": [
    "Also adding an extra column to the dataset for the total population, calculated from the total male and female population for each year"
   ]
  },
  {
   "cell_type": "code",
   "execution_count": null,
   "id": "a053be5a-2dfc-4eeb-918f-995838bbd166",
   "metadata": {},
   "outputs": [],
   "source": [
    "data_mean_tmp_emi = df.groupby(['Year','Continents'])[['total_emission','Average Temperature °C']].agg('mean').reset_index()\n",
    "data_sum_pop = df.groupby(['Year','Continents'])[('total_population')].agg('sum').reset_index()\n",
    "data_joined = pd.merge(data_mean_tmp_emi, data_sum_pop,  how='left', left_on=['Year','Continents'], right_on = ['Year','Continents'])\n",
    "data_joined2 = normalize(data_joined[['total_emission','Average Temperature °C','total_population']])\n",
    "data_joined2 = pd.concat((data_joined[['Year','Continents']], data_joined2[['total_emission','Average Temperature °C','total_population']]), axis = 1)\n",
    "\n",
    "sns.lineplot(data = data_joined2, x = 'Year', y = 'Average Temperature °C', hue = 'Continents', palette = 'dark', style = 'Continents', markers = True)\n",
    "plt.title('Temperature rise yearly from 1990-2020', fontsize = 18)\n",
    "plt.xlabel('Date from 1990 to 2020', fontsize = 18)\n",
    "plt.ylabel('Normalized change of temperature.', fontsize = 18)\n",
    "plt.show()"
   ]
  },
  {
   "cell_type": "markdown",
   "id": "113f1de7-2398-4c51-813e-593275c06446",
   "metadata": {},
   "source": [
    "Analyze different variables against the Average temperature and Continents"
   ]
  },
  {
   "cell_type": "code",
   "execution_count": null,
   "id": "634727c1-f4e5-427d-a73c-84038fb47c00",
   "metadata": {},
   "outputs": [],
   "source": [
    "sns.pairplot(df, vars =[\n",
    "     'Savanna fires', 'Forest fires', \n",
    "     \"total_emission\", 'Crop Residues',\n",
    "     'Rice Cultivation','Pesticides Manufacturing',\n",
    "     'Food Transport',\"Average Temperature °C\"\n",
    "],\n",
    "y_vars=\"Average Temperature °C\",\n",
    "hue = \"Continents\")\n",
    "plt.show()"
   ]
  },
  {
   "cell_type": "markdown",
   "id": "7d44391d-812f-41fb-897a-4f1d34d97ca4",
   "metadata": {},
   "source": [
    "## Hypothesis Testing\n"
   ]
  },
  {
   "cell_type": "code",
   "execution_count": null,
   "id": "c36e34a0-6ce2-419a-bbff-8c20c2f0a5cd",
   "metadata": {},
   "outputs": [],
   "source": [
    "dataplot = df.drop(['Area', 'Continents'], axis = 1)\n",
    "sns.heatmap(dataplot.corr(), cmap=\"YlGnBu\", annot=True)\n",
    "plt.show()"
   ]
  },
  {
   "cell_type": "code",
   "execution_count": null,
   "id": "c8eab41a-33f6-4bac-9f76-e9ecbab4ff52",
   "metadata": {},
   "outputs": [],
   "source": [
    "\n",
    "df_emiPerCapita = df[['Area', 'Year', 'Forestland', 'total_emission', 'total_population','Continents']]\n",
    "df_emiPerCapita['Emission_Per_Capita'] = df_emiPerCapita['total_emission'] / df_emiPerCapita['total_population']\n",
    "df = pd.concat([df, df_emiPerCapita['Emission_Per_Capita']], axis = 1)\n",
    "df_emiPerCapita_mean = df_emiPerCapita.groupby('Area')['Emission_Per_Capita'].mean()\n",
    "df_emiPerCapita_mean.sort_values(ascending = False).head(n=10).reset_index()\n",
    "\n",
    "correlation = df.groupby('Year').agg({'total_emission':'sum','Average Temperature °C':'mean','total_population':'sum', 'Forestland':'sum', 'Emission_Per_Capita':'mean'})\n",
    "correlation.corr()"
   ]
  },
  {
   "cell_type": "code",
   "execution_count": null,
   "id": "db77be4e-c6f6-4841-9f8b-37f2d40ac453",
   "metadata": {},
   "outputs": [],
   "source": [
    "correlation['Year'] = correlation.index\n",
    "sns.lmplot(data = correlation,\n",
    "            x = 'total_emission',\n",
    "            y = 'Average Temperature °C',\n",
    "            height = 10,\n",
    "            aspect = 2,\n",
    "            fit_reg = True)\n",
    "sns.lmplot(data = correlation,\n",
    "            x = 'total_emission',\n",
    "            y = 'Emission_Per_Capita',\n",
    "            height = 10,\n",
    "            aspect = 2,\n",
    "            fit_reg = True)\n",
    "sns.lmplot(data = correlation,\n",
    "            x = 'total_emission',\n",
    "            y = 'total_population',\n",
    "            height = 10,\n",
    "            aspect = 2,\n",
    "            fit_reg = True)\n",
    "plt.show()\n"
   ]
  },
  {
   "cell_type": "markdown",
   "id": "12e3ca08-0720-4595-ab47-4c2d59f25b1d",
   "metadata": {},
   "source": [
    "## Perform train-test splits"
   ]
  },
  {
   "cell_type": "markdown",
   "id": "5f71a4d2-cd8d-4541-9ad9-d62dfd5c8c1f",
   "metadata": {},
   "source": [
    "## Perform train-test splits - Model 1"
   ]
  },
  {
   "cell_type": "code",
   "execution_count": null,
   "id": "3d3edc4f-de01-4b9f-b0f4-e8b39732e073",
   "metadata": {},
   "outputs": [],
   "source": [
    "#Function to calculate slope intercept\n",
    "def get_slope_intercept(model):\n",
    "  slope = model.coef_[0]\n",
    "  intercept = model.intercept_\n",
    "\n",
    "  #Return scope and intercept values\n",
    "  return slope, intercept"
   ]
  },
  {
   "cell_type": "code",
   "execution_count": null,
   "id": "5b33cd9e-5727-4352-9b18-2ac88f3b9554",
   "metadata": {},
   "outputs": [],
   "source": [
    "def calculate_evaluation_metrics(predictions, y_values):\n",
    "  metrics = {\n",
    "      'R-squared': r2_score(y_values, predictions),\n",
    "      'MAE': mean_absolute_error(y_values, predictions),\n",
    "      'MSE': mean_squared_error(y_values, predictions),\n",
    "      'RMSE': mean_squared_error(y_values, predictions, squared=False)\n",
    "  }\n",
    "  return metrics"
   ]
  },
  {
   "cell_type": "code",
   "execution_count": null,
   "id": "b123ab9c-718b-46d0-8ca9-4222290ee5c1",
   "metadata": {},
   "outputs": [],
   "source": [
    "#Define values to be used to train the model\n",
    "X = df[['Food Processing']]\n",
    "y = df['Average Temperature °C']\n",
    "\n",
    "# Calculate and get train test split\n",
    "X_train, X_test, y_train, y_test = train_test_split(X, y, test_size=0.2, random_state=42)"
   ]
  },
  {
   "cell_type": "markdown",
   "id": "8020e472-e2e6-47d8-979b-0ef4bb330a6f",
   "metadata": {},
   "source": [
    "### Plotting the training and testing sets"
   ]
  },
  {
   "cell_type": "code",
   "execution_count": null,
   "id": "3e770445-d9af-4387-8dde-61c424660048",
   "metadata": {},
   "outputs": [],
   "source": [
    "# Plot the results using scatter plot \n",
    "plt.scatter(X_train, y_train, color='green', label='Training')  # plot the training data in green\n",
    "plt.scatter(X_test, y_test, color='darkblue', label='Testing')  # plot the testing data in blue\n",
    "plt.legend()\n",
    "plt.show()"
   ]
  },
  {
   "cell_type": "markdown",
   "id": "cee49f6c-ba7e-4a90-a55f-b60c40889c36",
   "metadata": {},
   "source": [
    "### Training a linear model"
   ]
  },
  {
   "cell_type": "code",
   "execution_count": null,
   "id": "c3ba44df-6c48-43c5-b596-e66008653942",
   "metadata": {},
   "outputs": [],
   "source": [
    "# Create an instance of the LinearRegression class\n",
    "lm = LinearRegression()\n",
    "\n",
    "# Train the linear regression model\n",
    "lm.fit(X_train, y_train)\n",
    "\n",
    "# Get slope and intercept values\n",
    "a, b = get_slope_intercept(lm)\n",
    "\n",
    "print(\"Slope:\\t\\t\", a)\n",
    "print(\"Intercept:\\t\", float(b))"
   ]
  },
  {
   "cell_type": "markdown",
   "id": "8e7aff2a-a6b4-4111-87ef-a715a41fa020",
   "metadata": {},
   "source": [
    "### Assessing model on the training data"
   ]
  },
  {
   "cell_type": "code",
   "execution_count": null,
   "id": "a29254f7-1a34-439c-9054-f736bfa0a09d",
   "metadata": {},
   "outputs": [],
   "source": [
    "# Generate predictions on the training set\n",
    "y_train_pred = lm.predict(X_train)\n",
    "\n",
    "# Plot the results\n",
    "plt.scatter(X_train, y_train, color='green', label='Training data')  # Plot the training data in green\n",
    "plt.plot(X_train, y_train_pred, color='red', label='Regression line')  # Plot the line connecting the generated y-values\n",
    "plt.legend()\n",
    "plt.show()\n"
   ]
  },
  {
   "cell_type": "code",
   "execution_count": null,
   "id": "1ec92e45-872b-4169-bc98-14ef89973029",
   "metadata": {},
   "outputs": [],
   "source": [
    "# Print the training MSE and R-squared score\n",
    "\n",
    "train_mse = metrics.mean_squared_error(y_train, y_train_pred)\n",
    "train_r2 = metrics.r2_score(y_train, y_train_pred)\n",
    "train_rmse = metrics.mean_squared_error(y_train, y_train_pred, squared=False) \n",
    "train_mae = metrics.mean_absolute_error(y_train, y_train_pred)\n",
    "\n",
    "print(\"Training MSE:\", train_mse)\n",
    "print(\"Training R-squared:\", train_r2)\n",
    "print(\"Training RMSE:\", train_rmse)\n",
    "print(\"Training MAE:\", train_mae)"
   ]
  },
  {
   "cell_type": "markdown",
   "id": "22674abe-e770-4f59-a368-ed542b91df9b",
   "metadata": {},
   "source": [
    "## Perform train-test splits - Model 2"
   ]
  },
  {
   "cell_type": "code",
   "execution_count": null,
   "id": "1adcd4bc-b382-4463-b483-8504519d3142",
   "metadata": {},
   "outputs": [],
   "source": [
    "# Define values to be used to train the model\n",
    "X = df[['Food Transport']]\n",
    "y = df['Average Temperature °C']\n",
    "\n",
    "# Calculate and get train test split\n",
    "X_one_train, X_one_test, y_one_train, y_one_test = train_test_split(X, y, test_size=0.2, random_state=42)"
   ]
  },
  {
   "cell_type": "markdown",
   "id": "ebad3d52-d9e0-4446-91c1-7ac482aa249e",
   "metadata": {},
   "source": [
    "### Plotting the training and testing sets"
   ]
  },
  {
   "cell_type": "code",
   "execution_count": null,
   "id": "cc9571ec-d015-42af-81fb-a3bb140eed78",
   "metadata": {},
   "outputs": [],
   "source": [
    "# Plot the results using scatter plot \n",
    "plt.scatter(X_one_train, y_one_train, color='green', label='Training')  # plot the training data in green\n",
    "plt.scatter(X_one_test, y_one_test, color='darkblue', label='Testing')  # plot the testing data in blue\n",
    "plt.legend()\n",
    "plt.show()"
   ]
  },
  {
   "cell_type": "markdown",
   "id": "01f84530-dbe0-4d3c-b853-adad4dc7e98c",
   "metadata": {},
   "source": [
    "### Training a linear model"
   ]
  },
  {
   "cell_type": "code",
   "execution_count": null,
   "id": "88619931-f67c-4df0-a309-89c63da343db",
   "metadata": {},
   "outputs": [],
   "source": [
    "# Create an instance of the LinearRegression class\n",
    "lm = LinearRegression()\n",
    "\n",
    "# Train the linear regression model\n",
    "lm.fit(X_one_train, y_one_train)\n",
    "\n",
    "# Get slope and intercept values\n",
    "a, b = get_slope_intercept(lm)\n",
    "\n",
    "print(\"Slope:\\t\\t\", a)\n",
    "print(\"Intercept:\\t\", float(b))"
   ]
  },
  {
   "cell_type": "markdown",
   "id": "d3c321a9-d14a-40a2-bb90-182fb5626ce9",
   "metadata": {},
   "source": [
    "### Assessing model on the training data"
   ]
  },
  {
   "cell_type": "code",
   "execution_count": null,
   "id": "cd891101-2d5a-412d-a72e-34099fc5abf5",
   "metadata": {},
   "outputs": [],
   "source": [
    "y_one_train_pred = lm.predict(X_one_train)\n",
    "\n",
    "# Plot the results\n",
    "plt.scatter(X_one_train, y_one_train, color='green', label='Training data')  # Plot the training data in green\n",
    "plt.plot(X_one_train, y_one_train_pred, color='red', label='Regression line')  # Plot the line connecting the generated y-values\n",
    "plt.legend()\n",
    "plt.show()"
   ]
  },
  {
   "cell_type": "code",
   "execution_count": null,
   "id": "6f3253b6-15d5-47e0-90b8-b747fdd9b442",
   "metadata": {},
   "outputs": [],
   "source": [
    "train_mse = metrics.mean_squared_error(y_one_train, y_one_train_pred)\n",
    "train_r2 = metrics.r2_score(y_one_train, y_one_train_pred)\n",
    "train_rmse = metrics.mean_squared_error(y_one_train, y_one_train_pred, squared=False) \n",
    "train_mae = metrics.mean_absolute_error(y_one_train, y_one_train_pred)\n",
    "\n",
    "print(\"Training MSE:\", train_mse)\n",
    "print(\"Training R-squared:\", train_r2)\n",
    "print(\"Training RMSE:\", train_rmse)\n",
    "print(\"Training MAE:\", train_mae)"
   ]
  },
  {
   "cell_type": "markdown",
   "id": "c62c8f4c-fc45-4821-877a-ee1187ee8145",
   "metadata": {},
   "source": [
    "## Perform train-test splits - Model 3"
   ]
  },
  {
   "cell_type": "code",
   "execution_count": null,
   "id": "06d87208-9588-42d0-a62d-df3fb5c38cc4",
   "metadata": {},
   "outputs": [],
   "source": [
    "# Define values to be used to train the model\n",
    "X = df[['total_emission']]\n",
    "y = df['Agrifood Systems Waste Disposal']\n",
    "\n",
    "# Calculate and get train test split\n",
    "X_two_train, X_two_test, y_two_train, y_two_test = train_test_split(X, y, test_size=0.2, random_state=42)"
   ]
  },
  {
   "cell_type": "markdown",
   "id": "e83a9894-5ef6-41bd-a628-aa850dedd127",
   "metadata": {},
   "source": [
    "### Plotting the training and testing sets"
   ]
  },
  {
   "cell_type": "code",
   "execution_count": null,
   "id": "5645ba94-ba30-4c4a-80d3-0176f91a014b",
   "metadata": {},
   "outputs": [],
   "source": [
    "#Plot the results using scatter plot \n",
    "plt.scatter(X_two_train, y_two_train, color='green', label='Training')  # plot the training data in green\n",
    "plt.scatter(X_two_test, y_two_test, color='darkblue', label='Testing')  # plot the testing data in blue\n",
    "plt.legend()\n",
    "plt.show()"
   ]
  },
  {
   "cell_type": "markdown",
   "id": "b2a92c26-39d7-49eb-8392-016713e71124",
   "metadata": {},
   "source": [
    "### Training a linear model"
   ]
  },
  {
   "cell_type": "code",
   "execution_count": null,
   "id": "3ea95dac-d05a-443f-80d9-74822a24632b",
   "metadata": {},
   "outputs": [],
   "source": [
    "# Create an instance of the LinearRegression class\n",
    "lm = LinearRegression()\n",
    "\n",
    "# Train the linear regression model\n",
    "lm.fit(X_two_train, y_two_train)\n",
    "\n",
    "# Get slope and intercept values\n",
    "a, b = get_slope_intercept(lm)\n",
    "\n",
    "print(\"Slope:\\t\\t\", a)\n",
    "print(\"Intercept:\\t\", float(b))"
   ]
  },
  {
   "cell_type": "markdown",
   "id": "705e351a-bf48-46aa-a890-c6a8e3103419",
   "metadata": {},
   "source": [
    "### Assessing model on the training data"
   ]
  },
  {
   "cell_type": "code",
   "execution_count": null,
   "id": "77df2efc-b0e0-47e5-903d-0c5d292e5fe9",
   "metadata": {},
   "outputs": [],
   "source": [
    "y_two_train_pred = lm.predict(X_two_train)\n",
    "\n",
    "# Plot the results\n",
    "plt.scatter(X_two_train, y_two_train, color='green', label='Training data')  # Plot the training data in green\n",
    "plt.plot(X_two_train, y_two_train_pred, color='red', label='Regression line')  # Plot the line connecting the generated y-values\n",
    "plt.legend()\n",
    "plt.show()"
   ]
  },
  {
   "cell_type": "code",
   "execution_count": null,
   "id": "1bfef29f-8644-47f7-b0d3-43e10deb70eb",
   "metadata": {},
   "outputs": [],
   "source": [
    "train_mse = metrics.mean_squared_error(y_two_train, y_two_train_pred)\n",
    "train_r2 = metrics.r2_score(y_two_train, y_two_train_pred)\n",
    "train_rmse = metrics.mean_squared_error(y_two_train, y_two_train_pred, squared=False) \n",
    "train_mae = metrics.mean_absolute_error(y_two_train, y_two_train_pred)\n",
    "\n",
    "print(\"Training MSE:\", train_mse)\n",
    "print(\"Training R-squared:\", train_r2)\n",
    "print(\"Training RMSE:\", train_rmse)\n",
    "print(\"Training MAE:\", train_mae)"
   ]
  },
  {
   "cell_type": "markdown",
   "id": "63cef7db-e56f-44ea-8e72-6bc4f8af2325",
   "metadata": {},
   "source": [
    "## Perform train-test splits - Model 4"
   ]
  },
  {
   "cell_type": "code",
   "execution_count": null,
   "id": "e9718b52-86ff-43c8-bad9-250a43d159f3",
   "metadata": {},
   "outputs": [],
   "source": [
    "# Define values to be used to train the model\n",
    "X = df[['On-farm Electricity Use']]\n",
    "y = df['Pesticides Manufacturing']\n",
    "\n",
    "# Calculate and get train test split\n",
    "X_three_train, X_three_test, y_three_train, y_three_test = train_test_split(X, y, test_size=0.2, random_state=42)"
   ]
  },
  {
   "cell_type": "markdown",
   "id": "12267adc-1e95-42b1-a01e-8d4d1b77f9ca",
   "metadata": {},
   "source": [
    "### Plotting the training and testing sets"
   ]
  },
  {
   "cell_type": "code",
   "execution_count": null,
   "id": "3b79ffb1-bdcd-44c0-a2e3-bab3b3001227",
   "metadata": {},
   "outputs": [],
   "source": [
    "# Plot the results using scatter plot \n",
    "plt.scatter(X_three_train, y_three_train, color='green', label='Training')  # plot the training data in green\n",
    "plt.scatter(X_three_test, y_three_test, color='darkblue', label='Testing')  # plot the testing data in blue\n",
    "plt.legend()\n",
    "plt.show()"
   ]
  },
  {
   "cell_type": "markdown",
   "id": "3d7346e1-ae17-4ffe-84f9-26707cb8738d",
   "metadata": {},
   "source": [
    "### Training a linear model"
   ]
  },
  {
   "cell_type": "code",
   "execution_count": null,
   "id": "28d8bc66-c952-4705-a5d9-2baa7276e409",
   "metadata": {},
   "outputs": [],
   "source": [
    "# Create an instance of the LinearRegression class\n",
    "lm = LinearRegression()\n",
    "\n",
    "# Train the linear regression model\n",
    "lm.fit(X_three_train, y_three_train)\n",
    "\n",
    "# Get slope and intercept values\n",
    "a, b = get_slope_intercept(lm)\n",
    "\n",
    "print(\"Slope:\\t\\t\", a)\n",
    "print(\"Intercept:\\t\", float(b))"
   ]
  },
  {
   "cell_type": "markdown",
   "id": "a4fa9bef-ca10-4056-8260-80a7ae0c595a",
   "metadata": {},
   "source": [
    "### Assessing model on the training data"
   ]
  },
  {
   "cell_type": "code",
   "execution_count": null,
   "id": "2de0ef71-816a-4fa6-88fe-6f303fe39f35",
   "metadata": {},
   "outputs": [],
   "source": [
    "y_three_train_pred = lm.predict(X_three_train)\n",
    "\n",
    "# Plot the results\n",
    "plt.scatter(X_three_train, y_three_train, color='green', label='Training data')  # Plot the training data in green\n",
    "plt.plot(X_three_train, y_three_train_pred, color='red', label='Regression line')  # Plot the line connecting the generated y-values\n",
    "plt.legend()\n",
    "plt.show()"
   ]
  },
  {
   "cell_type": "code",
   "execution_count": null,
   "id": "d4d2434a-4c8a-49bd-babc-5e3ccff5b796",
   "metadata": {},
   "outputs": [],
   "source": [
    "train_mse = metrics.mean_squared_error(y_three_train, y_three_train_pred)\n",
    "train_r2 = metrics.r2_score(y_three_train, y_three_train_pred)\n",
    "train_rmse = metrics.mean_squared_error(y_three_train, y_three_train_pred, squared=False) \n",
    "train_mae = metrics.mean_absolute_error(y_three_train, y_three_train_pred)\n",
    "\n",
    "print(\"Training MSE:\", train_mse)\n",
    "print(\"Training R-squared:\", train_r2)\n",
    "print(\"Training RMSE:\", train_rmse)\n",
    "print(\"Training MAE:\", train_mae)"
   ]
  }
 ],
 "metadata": {
  "kernelspec": {
   "display_name": "Python 3 (ipykernel)",
   "language": "python",
   "name": "python3"
  },
  "language_info": {
   "codemirror_mode": {
    "name": "ipython",
    "version": 3
   },
   "file_extension": ".py",
   "mimetype": "text/x-python",
   "name": "python",
   "nbconvert_exporter": "python",
   "pygments_lexer": "ipython3",
   "version": "3.11.9"
  }
 },
 "nbformat": 4,
 "nbformat_minor": 5
}
